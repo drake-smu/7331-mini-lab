{
 "cells": [
  {
   "cell_type": "code",
   "execution_count": 1,
   "metadata": {},
   "outputs": [],
   "source": [
    "import pandas as pd\n",
    "import numpy as np\n",
    "from sklearn import preprocessing\n",
    "import matplotlib.pyplot as plt \n",
    "plt.rc(\"font\", size=14)\n",
    "from sklearn.model_selection import train_test_split\n",
    "import seaborn as sns\n",
    "sns.set(style=\"white\")\n",
    "sns.set(style=\"whitegrid\", color_codes=True)\n"
   ]
  },
  {
   "cell_type": "code",
   "execution_count": 2,
   "metadata": {},
   "outputs": [],
   "source": [
    "COLUMNS = [\"age\", \"workclass\", \"fnlwgt\", \"education\",  \"education_num\", \"marital_status\", \"occupation\", \"relationship\", \"race\", \n",
    "\"gender\", \"capital_gain\", \"capital_loss\", \"hours_per_week\",  \"native_country\", \"income\"]\n",
    "\n",
    "CATEGORICAL_COLUMNS = [\"workclass\", \"education\", \"marital_status\", \"occupation\", \"relationship\", \"race\", \"gender\", \n",
    "                       \"native_country\"]\n",
    "CONTINUOUS_COLUMNS = [\"age\", \"education_num\", \"capital_gain\", \"capital_loss\", \"hours_per_week\"]"
   ]
  },
  {
   "cell_type": "code",
   "execution_count": 3,
   "metadata": {},
   "outputs": [],
   "source": [
    "df_train = pd.read_csv(\"adult-training.csv\",names = COLUMNS,)\n",
    "\n",
    "df_test = pd.read_csv(\"adult-test.csv\",names = COLUMNS,)"
   ]
  },
  {
   "cell_type": "code",
   "execution_count": 4,
   "metadata": {},
   "outputs": [
    {
     "name": "stdout",
     "output_type": "stream",
     "text": [
      "<class 'pandas.core.frame.DataFrame'>\n",
      "Int64Index: 48842 entries, 0 to 32560\n",
      "Data columns (total 15 columns):\n",
      "age               48842 non-null int64\n",
      "workclass         48842 non-null object\n",
      "fnlwgt            48842 non-null int64\n",
      "education         48842 non-null object\n",
      "education_num     48842 non-null int64\n",
      "marital_status    48842 non-null object\n",
      "occupation        48842 non-null object\n",
      "relationship      48842 non-null object\n",
      "race              48842 non-null object\n",
      "gender            48842 non-null object\n",
      "capital_gain      48842 non-null int64\n",
      "capital_loss      48842 non-null int64\n",
      "hours_per_week    48842 non-null int64\n",
      "native_country    48842 non-null object\n",
      "income            48842 non-null object\n",
      "dtypes: int64(6), object(9)\n",
      "memory usage: 6.0+ MB\n"
     ]
    }
   ],
   "source": [
    "# make 1 master csv file from test and train\n",
    "df_master = pd.concat([df_test, df_train], axis=0)\n",
    "df_master.info()"
   ]
  },
  {
   "cell_type": "code",
   "execution_count": 5,
   "metadata": {},
   "outputs": [
    {
     "data": {
      "text/plain": [
       " <=50K     24720\n",
       " <=50K.    12435\n",
       " >50K       7841\n",
       " >50K.      3846\n",
       "Name: income, dtype: int64"
      ]
     },
     "execution_count": 5,
     "metadata": {},
     "output_type": "execute_result"
    }
   ],
   "source": [
    "df_master['income'].value_counts()\n"
   ]
  },
  {
   "cell_type": "code",
   "execution_count": 6,
   "metadata": {},
   "outputs": [],
   "source": [
    "# Change income bracket values that have a . at end and remove space \n",
    "df_master = df_master.replace(to_replace=(' >50K.', ' >50K'),value='>50K')\n",
    "df_master = df_master.replace(to_replace=(' <=50K.', ' <=50K'),value='<=50K')"
   ]
  },
  {
   "cell_type": "code",
   "execution_count": 7,
   "metadata": {},
   "outputs": [],
   "source": [
    "# make 1 for >50k and 0 for <=50K in income column\n",
    "df_master['income'] = df_master['income'].apply(lambda x: 1 if x=='>50K' else 0)"
   ]
  },
  {
   "cell_type": "code",
   "execution_count": 8,
   "metadata": {},
   "outputs": [
    {
     "data": {
      "text/plain": [
       "array([' 11th', ' HS-grad', ' Assoc-acdm', ' Some-college', ' 10th',\n",
       "       ' Prof-school', ' 7th-8th', ' Bachelors', ' Masters', ' Doctorate',\n",
       "       ' 5th-6th', ' Assoc-voc', ' 9th', ' 12th', ' 1st-4th',\n",
       "       ' Preschool'], dtype=object)"
      ]
     },
     "execution_count": 8,
     "metadata": {},
     "output_type": "execute_result"
    }
   ],
   "source": [
    "df_master.education.unique()"
   ]
  },
  {
   "cell_type": "code",
   "execution_count": 9,
   "metadata": {},
   "outputs": [],
   "source": [
    "# Make all education values that didnt graduate HS 'No Diploma'\n",
    "# the 2 associate values to Associates\n",
    "# some college and HS-grad to Diploma\n",
    "df_master = df_master.replace(to_replace=(' 1st-4th', ' 5th-6th',' 7th-8th',' 9th', ' 10th', ' 11th', ' 12th', ' Preschool'),value=' No Diploma')\n",
    "df_master = df_master.replace(to_replace=(' Assoc-acdm', ' Assoc-voc'),value=' Associates')\n",
    "df_master = df_master.replace(to_replace=(' Some-college', ' HS-grad'),value=' Diploma')\n",
    "\n",
    "df_master['education'] = df_master['education'].str.strip()"
   ]
  },
  {
   "cell_type": "code",
   "execution_count": 10,
   "metadata": {},
   "outputs": [],
   "source": [
    "# Put countries in their native region continent\n",
    "df_master = df_master.replace(to_replace=(' United-States', ' Honduras', ' Mexico',' Puerto-Rico',' Canada', ' Outlying-US(Guam-USVI-etc)', ' Nicaragua', ' Guatemala', ' El-Salvador' ),value='North America')\n",
    "df_master = df_master.replace(to_replace=(' Cuba', ' Jamaica', ' Trinadad&Tobago', ' Haiti', ' Dominican-Republic' ),value='Caribbean')\n",
    "df_master = df_master.replace(to_replace=(' South', ' Cambodia',' Thailand',' Laos', ' Taiwan', ' China', ' Japan', ' India', ' Iran', ' Philippines', ' Vietnam', ' Hong'),value='Asia')\n",
    "df_master = df_master.replace(to_replace=(' England', ' Germany', ' Portugal', ' Italy', ' Poland', ' France', ' Yugoslavia',' Scotland', ' Greece', ' Ireland', ' Hungary', ' Holand-Netherlands'),value='Europe') \n",
    "df_master = df_master.replace(to_replace=(' Columbia', ' Ecuador', ' Peru'),value='South America')\n",
    "df_master = df_master.replace(to_replace=(' ?'),value='Other')                                       "
   ]
  },
  {
   "cell_type": "code",
   "execution_count": 11,
   "metadata": {
    "scrolled": false
   },
   "outputs": [
    {
     "data": {
      "text/html": [
       "<div>\n",
       "<style scoped>\n",
       "    .dataframe tbody tr th:only-of-type {\n",
       "        vertical-align: middle;\n",
       "    }\n",
       "\n",
       "    .dataframe tbody tr th {\n",
       "        vertical-align: top;\n",
       "    }\n",
       "\n",
       "    .dataframe thead th {\n",
       "        text-align: right;\n",
       "    }\n",
       "</style>\n",
       "<table border=\"1\" class=\"dataframe\">\n",
       "  <thead>\n",
       "    <tr style=\"text-align: right;\">\n",
       "      <th></th>\n",
       "      <th>age</th>\n",
       "      <th>fnlwgt</th>\n",
       "      <th>education_num</th>\n",
       "      <th>capital_gain</th>\n",
       "      <th>capital_loss</th>\n",
       "      <th>hours_per_week</th>\n",
       "    </tr>\n",
       "    <tr>\n",
       "      <th>income</th>\n",
       "      <th></th>\n",
       "      <th></th>\n",
       "      <th></th>\n",
       "      <th></th>\n",
       "      <th></th>\n",
       "      <th></th>\n",
       "    </tr>\n",
       "  </thead>\n",
       "  <tbody>\n",
       "    <tr>\n",
       "      <th>0</th>\n",
       "      <td>36.872184</td>\n",
       "      <td>190039.565523</td>\n",
       "      <td>9.598493</td>\n",
       "      <td>147.010308</td>\n",
       "      <td>54.151931</td>\n",
       "      <td>38.840048</td>\n",
       "    </tr>\n",
       "    <tr>\n",
       "      <th>1</th>\n",
       "      <td>44.275178</td>\n",
       "      <td>188470.574570</td>\n",
       "      <td>11.602807</td>\n",
       "      <td>4042.239497</td>\n",
       "      <td>193.528964</td>\n",
       "      <td>45.452896</td>\n",
       "    </tr>\n",
       "  </tbody>\n",
       "</table>\n",
       "</div>"
      ],
      "text/plain": [
       "              age         fnlwgt  education_num  capital_gain  capital_loss  \\\n",
       "income                                                                        \n",
       "0       36.872184  190039.565523       9.598493    147.010308     54.151931   \n",
       "1       44.275178  188470.574570      11.602807   4042.239497    193.528964   \n",
       "\n",
       "        hours_per_week  \n",
       "income                  \n",
       "0            38.840048  \n",
       "1            45.452896  "
      ]
     },
     "execution_count": 11,
     "metadata": {},
     "output_type": "execute_result"
    }
   ],
   "source": [
    "df_master.groupby('income').mean()"
   ]
  },
  {
   "cell_type": "code",
   "execution_count": 12,
   "metadata": {},
   "outputs": [
    {
     "name": "stdout",
     "output_type": "stream",
     "text": [
      "<class 'pandas.core.frame.DataFrame'>\n",
      "Int64Index: 48842 entries, 0 to 32560\n",
      "Data columns (total 15 columns):\n",
      "age               48842 non-null int64\n",
      "workclass         48842 non-null object\n",
      "fnlwgt            48842 non-null int64\n",
      "education         48842 non-null object\n",
      "education_num     48842 non-null int64\n",
      "marital_status    48842 non-null object\n",
      "occupation        48842 non-null object\n",
      "relationship      48842 non-null object\n",
      "race              48842 non-null object\n",
      "gender            48842 non-null object\n",
      "capital_gain      48842 non-null int64\n",
      "capital_loss      48842 non-null int64\n",
      "hours_per_week    48842 non-null int64\n",
      "native_country    48842 non-null object\n",
      "income            48842 non-null int64\n",
      "dtypes: int64(7), object(8)\n",
      "memory usage: 6.0+ MB\n"
     ]
    }
   ],
   "source": [
    "df_master.info()"
   ]
  },
  {
   "cell_type": "code",
   "execution_count": 14,
   "metadata": {},
   "outputs": [],
   "source": [
    "from sklearn.model_selection import train_test_split\n",
    "from sklearn.pipeline import make_pipeline\n",
    "from sklearn.linear_model import LogisticRegression\n",
    "from sklearn.impute import SimpleImputer\n",
    "from sklearn.compose import ColumnTransformer, make_column_transformer\n",
    "from sklearn.preprocessing import StandardScaler, OneHotEncoder\n",
    "from sklearn.svm import LinearSVC\n",
    "from sklearn.metrics import accuracy_score"
   ]
  },
  {
   "cell_type": "code",
   "execution_count": 15,
   "metadata": {},
   "outputs": [],
   "source": [
    "target = df_master['income'].values\n",
    "features = df_master[['age', 'workclass', 'fnlwgt', 'education',  'education_num', 'marital_status', 'occupation', 'relationship', 'race', \n",
    "\"gender\", 'capital_gain', 'capital_loss', 'hours_per_week',  'native_country',]].copy()"
   ]
  },
  {
   "cell_type": "code",
   "execution_count": 16,
   "metadata": {},
   "outputs": [],
   "source": [
    "X_train, X_test, y_train, y_test = train_test_split(features, target, random_state=0)"
   ]
  },
  {
   "cell_type": "code",
   "execution_count": 17,
   "metadata": {},
   "outputs": [
    {
     "name": "stderr",
     "output_type": "stream",
     "text": [
      "C:\\ProgramData\\Anaconda3\\lib\\site-packages\\sklearn\\compose\\_column_transformer.py:739: DeprecationWarning: `make_column_transformer` now expects (transformer, columns) as input tuples instead of (columns, transformer). This has been introduced in v0.20.1. `make_column_transformer` will stop accepting the deprecated (columns, transformer) order in v0.22.\n",
      "  warnings.warn(message, DeprecationWarning)\n"
     ]
    }
   ],
   "source": [
    "preprocess = make_column_transformer(\n",
    "    (['age', 'fnlwgt', 'education_num','capital_gain', 'capital_loss', 'hours_per_week'] ,make_pipeline(SimpleImputer(), StandardScaler())),\n",
    "    (['workclass', 'education', 'marital_status', 'occupation', 'relationship', 'race', 'gender', 'native_country'], OneHotEncoder()))"
   ]
  },
  {
   "cell_type": "code",
   "execution_count": 18,
   "metadata": {},
   "outputs": [],
   "source": [
    "model = make_pipeline(\n",
    "    preprocess,\n",
    "    LogisticRegression(solver='liblinear'))"
   ]
  },
  {
   "cell_type": "code",
   "execution_count": 19,
   "metadata": {},
   "outputs": [
    {
     "name": "stdout",
     "output_type": "stream",
     "text": [
      "logistic regression score: 0.851773\n"
     ]
    }
   ],
   "source": [
    "model.fit(X_train, y_train)\n",
    "print(\"Logistic regression score: %f\" % model.score(X_test, y_test))"
   ]
  },
  {
   "cell_type": "code",
   "execution_count": 20,
   "metadata": {},
   "outputs": [
    {
     "name": "stdout",
     "output_type": "stream",
     "text": [
      "LinearSVC accuracy :  0.8470672535571706\n"
     ]
    },
    {
     "name": "stderr",
     "output_type": "stream",
     "text": [
      "C:\\ProgramData\\Anaconda3\\lib\\site-packages\\sklearn\\svm\\base.py:922: ConvergenceWarning: Liblinear failed to converge, increase the number of iterations.\n",
      "  \"the number of iterations.\", ConvergenceWarning)\n"
     ]
    }
   ],
   "source": [
    "X_train, X_test, y_train, y_test = train_test_split(features, target, test_size = 0.20, random_state = 10)\n",
    "\n",
    "svc_model = make_pipeline(\n",
    "    preprocess,\n",
    "    LinearSVC(random_state=0))\n",
    "pred = svc_model.fit(X_train, y_train).predict(X_test)\n",
    "print(\"LinearSVC accuracy : \",accuracy_score(y_test, pred, normalize = True))"
   ]
  },
  {
   "cell_type": "code",
   "execution_count": null,
   "metadata": {},
   "outputs": [],
   "source": []
  }
 ],
 "metadata": {
  "kernelspec": {
   "display_name": "Python 3",
   "language": "python",
   "name": "python3"
  },
  "language_info": {
   "codemirror_mode": {
    "name": "ipython",
    "version": 3
   },
   "file_extension": ".py",
   "mimetype": "text/x-python",
   "name": "python",
   "nbconvert_exporter": "python",
   "pygments_lexer": "ipython3",
   "version": "3.6.7"
  }
 },
 "nbformat": 4,
 "nbformat_minor": 2
}
